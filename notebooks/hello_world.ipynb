{
 "cells": [
  {
   "cell_type": "markdown",
   "metadata": {},
   "source": [
    "# Hello World Notebook\n",
    "\n",
    "**Notebook Authors:** Zimo Xiao, Alexander Michels\n",
    "\n",
    "This is a short example notebook designed to demo the CyberGIS-Compute Python SDK UI with the Hello World notebook. Note that if you are viewing this on the [website](https://cybergis.github.io/cybergis-compute-python-sdk), you won't be able to fully interact with the UI. You can use the notebook on CyberGISX or CJW. [This notebook can be found here](https://github.com/cybergis/cybergis-compute-python-sdk/blob/v2/hello_world.ipynb)"
   ]
  },
  {
   "cell_type": "code",
   "execution_count": 1,
   "metadata": {},
   "outputs": [
    {
     "data": {
      "application/javascript": [
       "IPython.notebook.kernel.execute(`CyberGISCompute.jupyterhubHost = \"${window.location.host}\"`);"
      ],
      "text/plain": [
       "<IPython.core.display.Javascript object>"
      ]
     },
     "metadata": {},
     "output_type": "display_data"
    }
   ],
   "source": [
    "from cybergis_compute_client import CyberGISCompute\n",
    "\n",
    "cybergis = CyberGISCompute(url=\"localhost\", isJupyter=True, protocol=\"HTTP\", port=4040)"
   ]
  },
  {
   "cell_type": "code",
   "execution_count": 2,
   "metadata": {},
   "outputs": [
    {
     "data": {
      "text/markdown": [
       "| 1 | 2 | \n",
       "| --- | --- | \n",
       "| 1 | 2 | 3 | "
      ],
      "text/plain": [
       "<IPython.core.display.Markdown object>"
      ]
     },
     "execution_count": 2,
     "metadata": {},
     "output_type": "execute_result"
    }
   ],
   "source": [
    "from cybergis_compute_client import MarkdownTable\n",
    "from IPython.display import display, Markdown, Javascript\n",
    "\n",
    "Markdown(MarkdownTable.render(data=[[1,2,3]], headers=['1','2']))"
   ]
  },
  {
   "cell_type": "code",
   "execution_count": 6,
   "metadata": {},
   "outputs": [
    {
     "name": "stdout",
     "output_type": "stream",
     "text": [
      "Looking in indexes: https://pypi.tuna.tsinghua.edu.cn/simple\n",
      "Collecting ipyfilechooser\n",
      "  Using cached https://pypi.tuna.tsinghua.edu.cn/packages/00/60/249e3444fcd9c833704741769981cd02fe2c7ce94126b1394e7a3b26e543/ipyfilechooser-0.6.0-py3-none-any.whl (11 kB)\n",
      "Requirement already satisfied: ipywidgets in /opt/homebrew/Caskroom/miniconda/base/lib/python3.9/site-packages (from ipyfilechooser) (7.6.5)\n",
      "Requirement already satisfied: ipython-genutils~=0.2.0 in /opt/homebrew/Caskroom/miniconda/base/lib/python3.9/site-packages (from ipywidgets->ipyfilechooser) (0.2.0)\n",
      "Requirement already satisfied: ipython>=4.0.0 in /opt/homebrew/Caskroom/miniconda/base/lib/python3.9/site-packages (from ipywidgets->ipyfilechooser) (8.3.0)\n",
      "Requirement already satisfied: traitlets>=4.3.1 in /opt/homebrew/Caskroom/miniconda/base/lib/python3.9/site-packages (from ipywidgets->ipyfilechooser) (5.1.1)\n",
      "Requirement already satisfied: widgetsnbextension~=3.5.0 in /opt/homebrew/Caskroom/miniconda/base/lib/python3.9/site-packages (from ipywidgets->ipyfilechooser) (3.5.2)\n",
      "Requirement already satisfied: nbformat>=4.2.0 in /opt/homebrew/Caskroom/miniconda/base/lib/python3.9/site-packages (from ipywidgets->ipyfilechooser) (5.3.0)\n",
      "Requirement already satisfied: jupyterlab-widgets>=1.0.0 in /opt/homebrew/Caskroom/miniconda/base/lib/python3.9/site-packages (from ipywidgets->ipyfilechooser) (1.0.0)\n",
      "Requirement already satisfied: ipykernel>=4.5.1 in /opt/homebrew/Caskroom/miniconda/base/lib/python3.9/site-packages (from ipywidgets->ipyfilechooser) (6.9.1)\n",
      "Requirement already satisfied: nest-asyncio in /opt/homebrew/Caskroom/miniconda/base/lib/python3.9/site-packages (from ipykernel>=4.5.1->ipywidgets->ipyfilechooser) (1.5.5)\n",
      "Requirement already satisfied: tornado<7.0,>=4.2 in /opt/homebrew/Caskroom/miniconda/base/lib/python3.9/site-packages (from ipykernel>=4.5.1->ipywidgets->ipyfilechooser) (6.1)\n",
      "Requirement already satisfied: jupyter-client<8.0 in /opt/homebrew/Caskroom/miniconda/base/lib/python3.9/site-packages (from ipykernel>=4.5.1->ipywidgets->ipyfilechooser) (7.2.2)\n",
      "Requirement already satisfied: matplotlib-inline<0.2.0,>=0.1.0 in /opt/homebrew/Caskroom/miniconda/base/lib/python3.9/site-packages (from ipykernel>=4.5.1->ipywidgets->ipyfilechooser) (0.1.2)\n",
      "Requirement already satisfied: appnope in /opt/homebrew/Caskroom/miniconda/base/lib/python3.9/site-packages (from ipykernel>=4.5.1->ipywidgets->ipyfilechooser) (0.1.2)\n",
      "Requirement already satisfied: debugpy<2.0,>=1.0.0 in /opt/homebrew/Caskroom/miniconda/base/lib/python3.9/site-packages (from ipykernel>=4.5.1->ipywidgets->ipyfilechooser) (1.5.1)\n",
      "Requirement already satisfied: setuptools>=18.5 in /opt/homebrew/Caskroom/miniconda/base/lib/python3.9/site-packages (from ipython>=4.0.0->ipywidgets->ipyfilechooser) (61.2.0)\n",
      "Requirement already satisfied: backcall in /opt/homebrew/Caskroom/miniconda/base/lib/python3.9/site-packages (from ipython>=4.0.0->ipywidgets->ipyfilechooser) (0.2.0)\n",
      "Requirement already satisfied: jedi>=0.16 in /opt/homebrew/Caskroom/miniconda/base/lib/python3.9/site-packages (from ipython>=4.0.0->ipywidgets->ipyfilechooser) (0.18.1)\n",
      "Requirement already satisfied: pygments>=2.4.0 in /opt/homebrew/Caskroom/miniconda/base/lib/python3.9/site-packages (from ipython>=4.0.0->ipywidgets->ipyfilechooser) (2.11.2)\n",
      "Requirement already satisfied: pexpect>4.3 in /opt/homebrew/Caskroom/miniconda/base/lib/python3.9/site-packages (from ipython>=4.0.0->ipywidgets->ipyfilechooser) (4.8.0)\n",
      "Requirement already satisfied: prompt-toolkit!=3.0.0,!=3.0.1,<3.1.0,>=2.0.0 in /opt/homebrew/Caskroom/miniconda/base/lib/python3.9/site-packages (from ipython>=4.0.0->ipywidgets->ipyfilechooser) (3.0.20)\n",
      "Requirement already satisfied: decorator in /opt/homebrew/Caskroom/miniconda/base/lib/python3.9/site-packages (from ipython>=4.0.0->ipywidgets->ipyfilechooser) (5.1.1)\n",
      "Requirement already satisfied: pickleshare in /opt/homebrew/Caskroom/miniconda/base/lib/python3.9/site-packages (from ipython>=4.0.0->ipywidgets->ipyfilechooser) (0.7.5)\n",
      "Requirement already satisfied: stack-data in /opt/homebrew/Caskroom/miniconda/base/lib/python3.9/site-packages (from ipython>=4.0.0->ipywidgets->ipyfilechooser) (0.2.0)\n",
      "Requirement already satisfied: parso<0.9.0,>=0.8.0 in /opt/homebrew/Caskroom/miniconda/base/lib/python3.9/site-packages (from jedi>=0.16->ipython>=4.0.0->ipywidgets->ipyfilechooser) (0.8.3)\n",
      "Requirement already satisfied: python-dateutil>=2.8.2 in /opt/homebrew/Caskroom/miniconda/base/lib/python3.9/site-packages (from jupyter-client<8.0->ipykernel>=4.5.1->ipywidgets->ipyfilechooser) (2.8.2)\n",
      "Requirement already satisfied: entrypoints in /opt/homebrew/Caskroom/miniconda/base/lib/python3.9/site-packages (from jupyter-client<8.0->ipykernel>=4.5.1->ipywidgets->ipyfilechooser) (0.4)\n",
      "Requirement already satisfied: pyzmq>=22.3 in /opt/homebrew/Caskroom/miniconda/base/lib/python3.9/site-packages (from jupyter-client<8.0->ipykernel>=4.5.1->ipywidgets->ipyfilechooser) (22.3.0)\n",
      "Requirement already satisfied: jupyter-core>=4.9.2 in /opt/homebrew/Caskroom/miniconda/base/lib/python3.9/site-packages (from jupyter-client<8.0->ipykernel>=4.5.1->ipywidgets->ipyfilechooser) (4.10.0)\n",
      "Requirement already satisfied: jsonschema>=2.6 in /opt/homebrew/Caskroom/miniconda/base/lib/python3.9/site-packages (from nbformat>=4.2.0->ipywidgets->ipyfilechooser) (4.4.0)\n",
      "Requirement already satisfied: fastjsonschema in /opt/homebrew/Caskroom/miniconda/base/lib/python3.9/site-packages (from nbformat>=4.2.0->ipywidgets->ipyfilechooser) (2.15.1)\n",
      "Requirement already satisfied: attrs>=17.4.0 in /opt/homebrew/Caskroom/miniconda/base/lib/python3.9/site-packages (from jsonschema>=2.6->nbformat>=4.2.0->ipywidgets->ipyfilechooser) (21.4.0)\n",
      "Requirement already satisfied: pyrsistent!=0.17.0,!=0.17.1,!=0.17.2,>=0.14.0 in /opt/homebrew/Caskroom/miniconda/base/lib/python3.9/site-packages (from jsonschema>=2.6->nbformat>=4.2.0->ipywidgets->ipyfilechooser) (0.18.0)\n",
      "Requirement already satisfied: ptyprocess>=0.5 in /opt/homebrew/Caskroom/miniconda/base/lib/python3.9/site-packages (from pexpect>4.3->ipython>=4.0.0->ipywidgets->ipyfilechooser) (0.7.0)\n",
      "Requirement already satisfied: wcwidth in /opt/homebrew/Caskroom/miniconda/base/lib/python3.9/site-packages (from prompt-toolkit!=3.0.0,!=3.0.1,<3.1.0,>=2.0.0->ipython>=4.0.0->ipywidgets->ipyfilechooser) (0.2.5)\n",
      "Requirement already satisfied: six>=1.5 in /opt/homebrew/Caskroom/miniconda/base/lib/python3.9/site-packages (from python-dateutil>=2.8.2->jupyter-client<8.0->ipykernel>=4.5.1->ipywidgets->ipyfilechooser) (1.16.0)\n",
      "Requirement already satisfied: notebook>=4.4.1 in /opt/homebrew/Caskroom/miniconda/base/lib/python3.9/site-packages (from widgetsnbextension~=3.5.0->ipywidgets->ipyfilechooser) (6.4.11)\n",
      "Requirement already satisfied: jinja2 in /opt/homebrew/Caskroom/miniconda/base/lib/python3.9/site-packages (from notebook>=4.4.1->widgetsnbextension~=3.5.0->ipywidgets->ipyfilechooser) (3.0.3)\n",
      "Requirement already satisfied: nbconvert>=5 in /opt/homebrew/Caskroom/miniconda/base/lib/python3.9/site-packages (from notebook>=4.4.1->widgetsnbextension~=3.5.0->ipywidgets->ipyfilechooser) (6.4.4)\n",
      "Requirement already satisfied: terminado>=0.8.3 in /opt/homebrew/Caskroom/miniconda/base/lib/python3.9/site-packages (from notebook>=4.4.1->widgetsnbextension~=3.5.0->ipywidgets->ipyfilechooser) (0.13.1)\n",
      "Requirement already satisfied: argon2-cffi in /opt/homebrew/Caskroom/miniconda/base/lib/python3.9/site-packages (from notebook>=4.4.1->widgetsnbextension~=3.5.0->ipywidgets->ipyfilechooser) (21.3.0)\n",
      "Requirement already satisfied: prometheus-client in /opt/homebrew/Caskroom/miniconda/base/lib/python3.9/site-packages (from notebook>=4.4.1->widgetsnbextension~=3.5.0->ipywidgets->ipyfilechooser) (0.13.1)\n",
      "Requirement already satisfied: Send2Trash>=1.8.0 in /opt/homebrew/Caskroom/miniconda/base/lib/python3.9/site-packages (from notebook>=4.4.1->widgetsnbextension~=3.5.0->ipywidgets->ipyfilechooser) (1.8.0)\n",
      "Requirement already satisfied: testpath in /opt/homebrew/Caskroom/miniconda/base/lib/python3.9/site-packages (from nbconvert>=5->notebook>=4.4.1->widgetsnbextension~=3.5.0->ipywidgets->ipyfilechooser) (0.5.0)\n",
      "Requirement already satisfied: defusedxml in /opt/homebrew/Caskroom/miniconda/base/lib/python3.9/site-packages (from nbconvert>=5->notebook>=4.4.1->widgetsnbextension~=3.5.0->ipywidgets->ipyfilechooser) (0.7.1)\n",
      "Requirement already satisfied: bleach in /opt/homebrew/Caskroom/miniconda/base/lib/python3.9/site-packages (from nbconvert>=5->notebook>=4.4.1->widgetsnbextension~=3.5.0->ipywidgets->ipyfilechooser) (4.1.0)\n",
      "Requirement already satisfied: beautifulsoup4 in /opt/homebrew/Caskroom/miniconda/base/lib/python3.9/site-packages (from nbconvert>=5->notebook>=4.4.1->widgetsnbextension~=3.5.0->ipywidgets->ipyfilechooser) (4.11.1)\n",
      "Requirement already satisfied: mistune<2,>=0.8.1 in /opt/homebrew/Caskroom/miniconda/base/lib/python3.9/site-packages (from nbconvert>=5->notebook>=4.4.1->widgetsnbextension~=3.5.0->ipywidgets->ipyfilechooser) (0.8.4)\n",
      "Requirement already satisfied: pandocfilters>=1.4.1 in /opt/homebrew/Caskroom/miniconda/base/lib/python3.9/site-packages (from nbconvert>=5->notebook>=4.4.1->widgetsnbextension~=3.5.0->ipywidgets->ipyfilechooser) (1.5.0)\n",
      "Requirement already satisfied: nbclient<0.6.0,>=0.5.0 in /opt/homebrew/Caskroom/miniconda/base/lib/python3.9/site-packages (from nbconvert>=5->notebook>=4.4.1->widgetsnbextension~=3.5.0->ipywidgets->ipyfilechooser) (0.5.13)\n",
      "Requirement already satisfied: jupyterlab-pygments in /opt/homebrew/Caskroom/miniconda/base/lib/python3.9/site-packages (from nbconvert>=5->notebook>=4.4.1->widgetsnbextension~=3.5.0->ipywidgets->ipyfilechooser) (0.1.2)\n",
      "Requirement already satisfied: MarkupSafe>=2.0 in /opt/homebrew/Caskroom/miniconda/base/lib/python3.9/site-packages (from jinja2->notebook>=4.4.1->widgetsnbextension~=3.5.0->ipywidgets->ipyfilechooser) (2.0.1)\n"
     ]
    },
    {
     "name": "stdout",
     "output_type": "stream",
     "text": [
      "Requirement already satisfied: argon2-cffi-bindings in /opt/homebrew/Caskroom/miniconda/base/lib/python3.9/site-packages (from argon2-cffi->notebook>=4.4.1->widgetsnbextension~=3.5.0->ipywidgets->ipyfilechooser) (21.2.0)\n",
      "Requirement already satisfied: cffi>=1.0.1 in /opt/homebrew/Caskroom/miniconda/base/lib/python3.9/site-packages (from argon2-cffi-bindings->argon2-cffi->notebook>=4.4.1->widgetsnbextension~=3.5.0->ipywidgets->ipyfilechooser) (1.15.0)\n",
      "Requirement already satisfied: pycparser in /opt/homebrew/Caskroom/miniconda/base/lib/python3.9/site-packages (from cffi>=1.0.1->argon2-cffi-bindings->argon2-cffi->notebook>=4.4.1->widgetsnbextension~=3.5.0->ipywidgets->ipyfilechooser) (2.21)\n",
      "Requirement already satisfied: soupsieve>1.2 in /opt/homebrew/Caskroom/miniconda/base/lib/python3.9/site-packages (from beautifulsoup4->nbconvert>=5->notebook>=4.4.1->widgetsnbextension~=3.5.0->ipywidgets->ipyfilechooser) (2.3.1)\n",
      "Requirement already satisfied: webencodings in /opt/homebrew/Caskroom/miniconda/base/lib/python3.9/site-packages (from bleach->nbconvert>=5->notebook>=4.4.1->widgetsnbextension~=3.5.0->ipywidgets->ipyfilechooser) (0.5.1)\n",
      "Requirement already satisfied: packaging in /opt/homebrew/Caskroom/miniconda/base/lib/python3.9/site-packages (from bleach->nbconvert>=5->notebook>=4.4.1->widgetsnbextension~=3.5.0->ipywidgets->ipyfilechooser) (21.3)\n",
      "Requirement already satisfied: pyparsing!=3.0.5,>=2.0.2 in /opt/homebrew/Caskroom/miniconda/base/lib/python3.9/site-packages (from packaging->bleach->nbconvert>=5->notebook>=4.4.1->widgetsnbextension~=3.5.0->ipywidgets->ipyfilechooser) (3.0.9)\n",
      "Requirement already satisfied: pure-eval in /opt/homebrew/Caskroom/miniconda/base/lib/python3.9/site-packages (from stack-data->ipython>=4.0.0->ipywidgets->ipyfilechooser) (0.2.2)\n",
      "Requirement already satisfied: executing in /opt/homebrew/Caskroom/miniconda/base/lib/python3.9/site-packages (from stack-data->ipython>=4.0.0->ipywidgets->ipyfilechooser) (0.8.3)\n",
      "Requirement already satisfied: asttokens in /opt/homebrew/Caskroom/miniconda/base/lib/python3.9/site-packages (from stack-data->ipython>=4.0.0->ipywidgets->ipyfilechooser) (2.0.5)\n",
      "Installing collected packages: ipyfilechooser\n",
      "Successfully installed ipyfilechooser-0.6.0\n"
     ]
    }
   ],
   "source": [
    "!pip install ipyfilechooser"
   ]
  },
  {
   "cell_type": "code",
   "execution_count": 2,
   "metadata": {},
   "outputs": [
    {
     "data": {
      "application/vnd.jupyter.widget-view+json": {
       "model_id": "be8e4ead0402492687474c9cb9cab079",
       "version_major": 2,
       "version_minor": 0
      },
      "text/plain": [
       "Tab(children=(Output(), Output(), Output(), Output()), _titles={'0': 'Job Configuration', '1': 'Your Job Statu…"
      ]
     },
     "metadata": {},
     "output_type": "display_data"
    }
   ],
   "source": [
    "cybergis.show_ui(jupyterhubApiToken=\"Y3liZXJnaXN4LmNpZ2kuaWxsaW5vaXMuZWR1QGRiMTY2NTJkY2ZkZTQ1MTRiYmFjODg5MGY2MDE1OGQ0\")"
   ]
  },
  {
   "cell_type": "code",
   "execution_count": null,
   "metadata": {},
   "outputs": [],
   "source": []
  },
  {
   "cell_type": "code",
   "execution_count": null,
   "metadata": {},
   "outputs": [],
   "source": []
  }
 ],
 "metadata": {
  "interpreter": {
   "hash": "5926609cd90a2d94a42e09238288e2cffb196a8e75506a864a3e89f4f0cb4116"
  },
  "kernelspec": {
   "display_name": "Python 3 (ipykernel)",
   "language": "python",
   "name": "python3"
  },
  "language_info": {
   "codemirror_mode": {
    "name": "ipython",
    "version": 3
   },
   "file_extension": ".py",
   "mimetype": "text/x-python",
   "name": "python",
   "nbconvert_exporter": "python",
   "pygments_lexer": "ipython3",
   "version": "3.9.12"
  },
  "widgets": {
   "application/vnd.jupyter.widget-state+json": {
    "state": {
     "01f1c411fc8e4e668dcb64279f868617": {
      "model_module": "@jupyter-widgets/controls",
      "model_module_version": "1.5.0",
      "model_name": "GridBoxModel",
      "state": {
       "children": [
        "IPY_MODEL_a1c62428f1bd45f5802a398c82d14f38",
        "IPY_MODEL_c2a753bb92bd4701951ce03460ee153e",
        "IPY_MODEL_37b75ed8ec79485d8e39b5c85abbc5c1"
       ],
       "layout": "IPY_MODEL_c2fced89b31f464092d51229d96a240b"
      }
     },
     "02ac7ac1f3b14444ba27d57db5d4116f": {
      "model_module": "@jupyter-widgets/base",
      "model_module_version": "1.2.0",
      "model_name": "LayoutModel",
      "state": {}
     },
     "02c243b823d841238718e997267f015e": {
      "model_module": "@jupyter-widgets/controls",
      "model_module_version": "1.5.0",
      "model_name": "DropdownModel",
      "state": {
       "_options_labels": [
        "foo",
        "bar"
       ],
       "description": "input_b",
       "index": 0,
       "layout": "IPY_MODEL_25cc35bce4154fb7b19006106c4306ba",
       "style": "IPY_MODEL_d5ba1a148bfb4a1f800199311e50c74c"
      }
     },
     "0426e09ecaa54dde9d30c607d404540d": {
      "model_module": "@jupyter-widgets/controls",
      "model_module_version": "1.5.0",
      "model_name": "HTMLModel",
      "state": {
       "layout": "IPY_MODEL_8142643b06294ec991d94d2cd77ce45b",
       "placeholder": "",
       "style": "IPY_MODEL_6c45a2ae22ef499a8c39c6ade3d4debb",
       "value": "<span style=\"color:green;\">/home/jovyan/work/osmnx-examples/notebooks/input_data/ZillowNeighborhoods-CA/</span>"
      }
     },
     "05257dbcc7d345fbbdf074b8f7096101": {
      "model_module": "@jupyter-widgets/controls",
      "model_module_version": "1.5.0",
      "model_name": "VBoxModel",
      "state": {
       "children": [
        "IPY_MODEL_b0a6f8d2351f47d89c3f12ac332139b4",
        "IPY_MODEL_01f1c411fc8e4e668dcb64279f868617",
        "IPY_MODEL_d2e13fee7ee44b4c8f37b6e74f2e0d86"
       ],
       "layout": "IPY_MODEL_1c66b204ea0b4241a54115261e480a2b"
      }
     },
     "083d1e35b14347dda2b4b1e3faaba3b6": {
      "model_module": "@jupyter-widgets/base",
      "model_module_version": "1.2.0",
      "model_name": "LayoutModel",
      "state": {
       "display": "none",
       "grid_area": "filename",
       "width": "auto"
      }
     },
     "09e67c9035ef4c0791d9f4a7ea4fc7dc": {
      "model_module": "@jupyter-widgets/base",
      "model_module_version": "1.2.0",
      "model_name": "LayoutModel",
      "state": {}
     },
     "0b1b4a80c68b4b179c5250c5f7ddfacd": {
      "model_module": "@jupyter-widgets/output",
      "model_module_version": "1.0.0",
      "model_name": "OutputModel",
      "state": {
       "layout": "IPY_MODEL_7e72a689d42c44d4bf4e7525d49bdc3a"
      }
     },
     "0bfced3226c541faa397d8ef0eb49269": {
      "model_module": "@jupyter-widgets/controls",
      "model_module_version": "1.5.0",
      "model_name": "DescriptionStyleModel",
      "state": {
       "description_width": ""
      }
     },
     "0f77c7b46a064b2fbbad768be114656d": {
      "model_module": "@jupyter-widgets/controls",
      "model_module_version": "1.5.0",
      "model_name": "AccordionModel",
      "state": {
       "_titles": {
        "0": "Upload Data"
       },
       "children": [
        "IPY_MODEL_05257dbcc7d345fbbdf074b8f7096101"
       ],
       "layout": "IPY_MODEL_62fb10beb51d43ebb3ea78bf737ca310",
       "selected_index": null
      }
     },
     "1138054d28ac4049b511c4a55c4c244e": {
      "model_module": "@jupyter-widgets/controls",
      "model_module_version": "1.5.0",
      "model_name": "DropdownModel",
      "state": {
       "_options_labels": [
        "keeling_community"
       ],
       "description": "🖥 Computing Recourse:",
       "index": 0,
       "layout": "IPY_MODEL_ce0425f11edb4b70a2efbb8d6490dfca",
       "style": "IPY_MODEL_5bd0f48dd4254a18a0074e9552592da4"
      }
     },
     "11d2f701aaad4e338b836da85a290628": {
      "model_module": "@jupyter-widgets/controls",
      "model_module_version": "1.5.0",
      "model_name": "ButtonStyleModel",
      "state": {}
     },
     "12830cd9160f4967a3a9df6bd987ff14": {
      "model_module": "@jupyter-widgets/base",
      "model_module_version": "1.2.0",
      "model_name": "LayoutModel",
      "state": {}
     },
     "14c84ed722824cf085845cd8b1844fda": {
      "model_module": "@jupyter-widgets/controls",
      "model_module_version": "1.5.0",
      "model_name": "TextModel",
      "state": {
       "layout": "IPY_MODEL_9998d0a8909c43e9936286ea87a5e279",
       "style": "IPY_MODEL_2e86f69c17954027ae9b40a8c1c677ac",
       "value": "example@illinois.edu"
      }
     },
     "160cf3a616374c55a7f3f6c97196862b": {
      "model_module": "@jupyter-widgets/base",
      "model_module_version": "1.2.0",
      "model_name": "LayoutModel",
      "state": {}
     },
     "18b32b12302e44dfb31ad7a31acd4416": {
      "model_module": "@jupyter-widgets/output",
      "model_module_version": "1.0.0",
      "model_name": "OutputModel",
      "state": {
       "layout": "IPY_MODEL_a78e1884305947adbc13262df3c7ae52",
       "outputs": [
        {
         "data": {
          "text/markdown": "# Welcome to CyberGIS-Compute",
          "text/plain": "<IPython.core.display.Markdown object>"
         },
         "metadata": {},
         "output_type": "display_data"
        },
        {
         "data": {
          "text/markdown": "A scalable middleware framework for enabling high-performance and data-intensive geospatial research and education on CyberGIS-Jupyter",
          "text/plain": "<IPython.core.display.Markdown object>"
         },
         "metadata": {},
         "output_type": "display_data"
        },
        {
         "data": {
          "text/markdown": "***",
          "text/plain": "<IPython.core.display.Markdown object>"
         },
         "metadata": {},
         "output_type": "display_data"
        },
        {
         "data": {
          "application/vnd.jupyter.widget-view+json": {
           "model_id": "79eb25ed91b7486e8596c4f49cb655a0",
           "version_major": 2,
           "version_minor": 0
          },
          "text/plain": "Output()"
         },
         "metadata": {},
         "output_type": "display_data"
        },
        {
         "data": {
          "application/vnd.jupyter.widget-view+json": {
           "model_id": "1d49e5144e764673947beaba96bc23be",
           "version_major": 2,
           "version_minor": 0
          },
          "text/plain": "Output()"
         },
         "metadata": {},
         "output_type": "display_data"
        },
        {
         "data": {
          "application/vnd.jupyter.widget-view+json": {
           "model_id": "7a5a49a03c314eb6a4fe5debd480103f",
           "version_major": 2,
           "version_minor": 0
          },
          "text/plain": "Output()"
         },
         "metadata": {},
         "output_type": "display_data"
        },
        {
         "data": {
          "application/vnd.jupyter.widget-view+json": {
           "model_id": "9eedb74f281b48378e3691679b0914bd",
           "version_major": 2,
           "version_minor": 0
          },
          "text/plain": "Output()"
         },
         "metadata": {},
         "output_type": "display_data"
        },
        {
         "data": {
          "application/vnd.jupyter.widget-view+json": {
           "model_id": "66cb690142e64fe3b0e9979d8464e9f6",
           "version_major": 2,
           "version_minor": 0
          },
          "text/plain": "Output()"
         },
         "metadata": {},
         "output_type": "display_data"
        },
        {
         "data": {
          "application/vnd.jupyter.widget-view+json": {
           "model_id": "cb156bbe40134979b12330b2e07d7a44",
           "version_major": 2,
           "version_minor": 0
          },
          "text/plain": "Output()"
         },
         "metadata": {},
         "output_type": "display_data"
        },
        {
         "data": {
          "application/vnd.jupyter.widget-view+json": {
           "model_id": "55a7057e776441f9a9db1382bf6c0a01",
           "version_major": 2,
           "version_minor": 0
          },
          "text/plain": "Output()"
         },
         "metadata": {},
         "output_type": "display_data"
        },
        {
         "data": {
          "application/vnd.jupyter.widget-view+json": {
           "model_id": "786235d7341d4091b862b57ad5cf964d",
           "version_major": 2,
           "version_minor": 0
          },
          "text/plain": "Output()"
         },
         "metadata": {},
         "output_type": "display_data"
        }
       ]
      }
     },
     "1c66b204ea0b4241a54115261e480a2b": {
      "model_module": "@jupyter-widgets/base",
      "model_module_version": "1.2.0",
      "model_name": "LayoutModel",
      "state": {
       "width": "500px"
      }
     },
     "1ce1db72e8354f3082236ba86b154398": {
      "model_module": "@jupyter-widgets/controls",
      "model_module_version": "1.5.0",
      "model_name": "TabModel",
      "state": {
       "_titles": {
        "0": "Job Configuration",
        "1": "✅ Your Job Status",
        "2": "✅ Download Job Result"
       },
       "children": [
        "IPY_MODEL_18b32b12302e44dfb31ad7a31acd4416",
        "IPY_MODEL_8ae444843e13478c934966dc8d212a8e",
        "IPY_MODEL_ac518dd032db432c8972c2c071fe96ec"
       ],
       "layout": "IPY_MODEL_ec615cb7534843888174814898f56895",
       "selected_index": 1
      }
     },
     "1d49e5144e764673947beaba96bc23be": {
      "model_module": "@jupyter-widgets/output",
      "model_module_version": "1.0.0",
      "model_name": "OutputModel",
      "state": {
       "layout": "IPY_MODEL_5243f6c7c486439ea2b72a68a39a1e70",
       "outputs": [
        {
         "data": {
          "text/markdown": "**hello_world Job Description:** none",
          "text/plain": "<IPython.core.display.Markdown object>"
         },
         "metadata": {},
         "output_type": "display_data"
        },
        {
         "data": {
          "text/markdown": "**keeling_community HPC Description**: none",
          "text/plain": "<IPython.core.display.Markdown object>"
         },
         "metadata": {},
         "output_type": "display_data"
        },
        {
         "data": {
          "text/markdown": "**Estimated Runtime:** unknown",
          "text/plain": "<IPython.core.display.Markdown object>"
         },
         "metadata": {},
         "output_type": "display_data"
        }
       ]
      }
     },
     "1d4ee4e525214a9f9d4b5d81e1bdf320": {
      "model_module": "@jupyter-widgets/controls",
      "model_module_version": "1.5.0",
      "model_name": "IntSliderModel",
      "state": {
       "continuous_update": false,
       "description": "num_of_task",
       "layout": "IPY_MODEL_ce0425f11edb4b70a2efbb8d6490dfca",
       "max": 6,
       "min": 1,
       "style": "IPY_MODEL_d50c5f6c94df4f00ab1b2897fe115292",
       "value": 4
      }
     },
     "1dc3b9479a8e40388732c3a5f4512329": {
      "model_module": "@jupyter-widgets/controls",
      "model_module_version": "1.5.0",
      "model_name": "DescriptionStyleModel",
      "state": {
       "description_width": "auto"
      }
     },
     "204402954b86467a909d3db21efb3e05": {
      "model_module": "@jupyter-widgets/base",
      "model_module_version": "1.2.0",
      "model_name": "LayoutModel",
      "state": {}
     },
     "2299e0a359d64ca489c58059d4513968": {
      "model_module": "@jupyter-widgets/controls",
      "model_module_version": "1.5.0",
      "model_name": "AccordionModel",
      "state": {
       "_titles": {
        "0": "Input Parameters"
       },
       "children": [
        "IPY_MODEL_b33067cfa99f4943bdd222aaff725c68"
       ],
       "layout": "IPY_MODEL_c10da3bec9ed4e3cba3438435d6c6013",
       "selected_index": null
      }
     },
     "236325414abd4400a5b0bf1566071457": {
      "model_module": "@jupyter-widgets/base",
      "model_module_version": "1.2.0",
      "model_name": "LayoutModel",
      "state": {}
     },
     "25cc35bce4154fb7b19006106c4306ba": {
      "model_module": "@jupyter-widgets/base",
      "model_module_version": "1.2.0",
      "model_name": "LayoutModel",
      "state": {}
     },
     "2745983e4c1c4a4784168b96759a2584": {
      "model_module": "@jupyter-widgets/controls",
      "model_module_version": "1.5.0",
      "model_name": "DescriptionStyleModel",
      "state": {
       "description_width": ""
      }
     },
     "2b49cadeb7e440d4a30bbc289136c078": {
      "model_module": "@jupyter-widgets/controls",
      "model_module_version": "1.5.0",
      "model_name": "HBoxModel",
      "state": {
       "children": [
        "IPY_MODEL_f95199428c8444e0a32a4ef0e5a25e6d",
        "IPY_MODEL_14c84ed722824cf085845cd8b1844fda"
       ],
       "layout": "IPY_MODEL_a55ef864669c4a9b8eb5a3c0a2734774"
      }
     },
     "2e86f69c17954027ae9b40a8c1c677ac": {
      "model_module": "@jupyter-widgets/controls",
      "model_module_version": "1.5.0",
      "model_name": "DescriptionStyleModel",
      "state": {
       "description_width": "auto"
      }
     },
     "3323ecefb1dd48fbacff630e09dc2663": {
      "model_module": "@jupyter-widgets/controls",
      "model_module_version": "1.5.0",
      "model_name": "AccordionModel",
      "state": {
       "_titles": {
        "0": "Slurm Computing Configurations"
       },
       "children": [
        "IPY_MODEL_5b12248c2a144dd58a29715b9ae29617"
       ],
       "layout": "IPY_MODEL_ffd012aad6b04d4b820e45de0b09d5e9",
       "selected_index": null
      }
     },
     "35e5a7c7b61a4d0bbc78d6282148b255": {
      "model_module": "@jupyter-widgets/controls",
      "model_module_version": "1.5.0",
      "model_name": "ButtonStyleModel",
      "state": {}
     },
     "3694a7d12fa846f498208c1669e59169": {
      "model_module": "@jupyter-widgets/controls",
      "model_module_version": "1.5.0",
      "model_name": "DescriptionStyleModel",
      "state": {
       "description_width": ""
      }
     },
     "37b75ed8ec79485d8e39b5c85abbc5c1": {
      "model_module": "@jupyter-widgets/controls",
      "model_module_version": "1.5.0",
      "model_name": "SelectModel",
      "state": {
       "_options_labels": [
        "📁 .."
       ],
       "index": null,
       "layout": "IPY_MODEL_90f892e8d5d744dab3af81198d277e18",
       "rows": 8,
       "style": "IPY_MODEL_7be92ffe52524ae6a4d3dea587e52a7e"
      }
     },
     "38eee2aadeae490a95c40ff54597d268": {
      "model_module": "@jupyter-widgets/base",
      "model_module_version": "1.2.0",
      "model_name": "LayoutModel",
      "state": {}
     },
     "3ec9fecdd5104fe299fd181e57107b07": {
      "model_module": "@jupyter-widgets/controls",
      "model_module_version": "1.5.0",
      "model_name": "IntSliderModel",
      "state": {
       "continuous_update": false,
       "description": "time (Minutes)",
       "layout": "IPY_MODEL_ce0425f11edb4b70a2efbb8d6490dfca",
       "max": 50,
       "min": 10,
       "style": "IPY_MODEL_5eb859db0ce247bdb78ff9ff86a5a080",
       "value": 20
      }
     },
     "41749e8c29cc4eb5a86072abc90a686e": {
      "model_module": "@jupyter-widgets/controls",
      "model_module_version": "1.5.0",
      "model_name": "IntSliderModel",
      "state": {
       "continuous_update": false,
       "description": "input_a",
       "layout": "IPY_MODEL_ce0425f11edb4b70a2efbb8d6490dfca",
       "step": 10,
       "style": "IPY_MODEL_b8f758af96b74b29bca2cbdd3a17dda6",
       "value": 50
      }
     },
     "429e02f1689946f080b7bceccbc137d1": {
      "model_module": "@jupyter-widgets/base",
      "model_module_version": "1.2.0",
      "model_name": "LayoutModel",
      "state": {}
     },
     "433ff9468f934650abce7ae1de4afb5c": {
      "model_module": "@jupyter-widgets/base",
      "model_module_version": "1.2.0",
      "model_name": "LayoutModel",
      "state": {}
     },
     "46b663199aed47b682dc80b3c68156f9": {
      "model_module": "@jupyter-widgets/output",
      "model_module_version": "1.0.0",
      "model_name": "OutputModel",
      "state": {
       "layout": "IPY_MODEL_bb1c5b1114c041d6bc64b803074c90f7",
       "outputs": [
        {
         "name": "stdout",
         "output_type": "stream",
         "text": "\u001b[H\u001b[2J📮 Job ID: 1654019912oVAAB\n🤖 Slurm ID: 808561\n"
        },
        {
         "data": {
          "text/html": "<table>\n<thead>\n<tr><th>message                                                                         </th><th>time                    </th></tr>\n</thead>\n<tbody>\n<tr><td style='text-align:left'>running setup...\nrunning main...\n\n./job.json\n\nrunning main...\n\n./job.json\n\nSLURM_NODEID\n\n0\nSLURM_PROCID\n\n1\njob_id\n1654019912oVAAB\nrunning main...\n\n./job.json\n{&#x27;job_id&#x27;: &#x27;1654019912oVAAB&#x27;, &#x27;user_id&#x27;: &#x27;alexandermichels@cybergisx.cigi.illinois.edu&#x27;, &#x27;maintainer&#x27;: &#x27;community_contribution&#x27;, &#x27;hpc&#x27;: &#x27;keeling_community&#x27;, &#x27;param&#x27;: {&#x27;input_a&#x27;: 50, &#x27;input_b&#x27;: &#x27;foo&#x27;}, &#x27;env&#x27;: {}, &#x27;executable_folder&#x27;: &#x27;/job/executable&#x27;, &#x27;data_folder&#x27;: &#x27;/job/data&#x27;, &#x27;result_folder&#x27;: &#x27;/job/result&#x27;}\n\nSLURM_NODEID\n\n0\nSLURM_PROCID\n...[download for full log]                                                                                 </td><td style='text-align:left'>2022-05-31T17:59:21.000Z</td></tr>\n<tr><td style='text-align:left'>ModuleCmd_Use.c(231):ERROR:64: Directory &#x27;gnu/openmpi-4.1.2-gnu-4.8.5&#x27; not found</td><td style='text-align:left'>2022-05-31T17:59:21.000Z</td></tr>\n</tbody>\n</table>",
          "text/plain": "<IPython.core.display.HTML object>"
         },
         "metadata": {},
         "output_type": "display_data"
        },
        {
         "data": {
          "text/markdown": "***",
          "text/plain": "<IPython.core.display.Markdown object>"
         },
         "metadata": {},
         "output_type": "display_data"
        },
        {
         "data": {
          "text/markdown": "## ✅ your job completed",
          "text/plain": "<IPython.core.display.Markdown object>"
         },
         "metadata": {},
         "output_type": "display_data"
        }
       ]
      }
     },
     "4793eb664c964aefa8f65bdb8be69e9b": {
      "model_module": "@jupyter-widgets/base",
      "model_module_version": "1.2.0",
      "model_name": "LayoutModel",
      "state": {}
     },
     "4842025daf894f07899bcec525c1b085": {
      "model_module": "@jupyter-widgets/base",
      "model_module_version": "1.2.0",
      "model_name": "LayoutModel",
      "state": {}
     },
     "5024100bef3e42dca951da2dc9ca965c": {
      "model_module": "@jupyter-widgets/base",
      "model_module_version": "1.2.0",
      "model_name": "LayoutModel",
      "state": {}
     },
     "508ec139745c47baa1026acb79a69309": {
      "model_module": "@jupyter-widgets/output",
      "model_module_version": "1.0.0",
      "model_name": "OutputModel",
      "state": {
       "layout": "IPY_MODEL_4793eb664c964aefa8f65bdb8be69e9b",
       "outputs": [
        {
         "name": "stdout",
         "output_type": "stream",
         "text": "💻 Found system token\n🎯 Logged in as alexandermichels@cybergisx.cigi.illinois.edu\n"
        }
       ]
      }
     },
     "5243f6c7c486439ea2b72a68a39a1e70": {
      "model_module": "@jupyter-widgets/base",
      "model_module_version": "1.2.0",
      "model_name": "LayoutModel",
      "state": {}
     },
     "53a81819aa6c4fa3bf5d4b24d2388854": {
      "model_module": "@jupyter-widgets/base",
      "model_module_version": "1.2.0",
      "model_name": "LayoutModel",
      "state": {}
     },
     "55a7057e776441f9a9db1382bf6c0a01": {
      "model_module": "@jupyter-widgets/output",
      "model_module_version": "1.0.0",
      "model_name": "OutputModel",
      "state": {
       "layout": "IPY_MODEL_204402954b86467a909d3db21efb3e05",
       "outputs": [
        {
         "data": {
          "application/vnd.jupyter.widget-view+json": {
           "model_id": "2b49cadeb7e440d4a30bbc289136c078",
           "version_major": 2,
           "version_minor": 0
          },
          "text/plain": "HBox(children=(Checkbox(value=False, description='receive email on job status? ', style=DescriptionStyle(descr…"
         },
         "metadata": {},
         "output_type": "display_data"
        }
       ]
      }
     },
     "5b12248c2a144dd58a29715b9ae29617": {
      "model_module": "@jupyter-widgets/controls",
      "model_module_version": "1.5.0",
      "model_name": "VBoxModel",
      "state": {
       "children": [
        "IPY_MODEL_7d83bed854fd46c4a75a04afd3f1a198",
        "IPY_MODEL_e46403b87de54897b9be327ea6fba4b2"
       ],
       "layout": "IPY_MODEL_236325414abd4400a5b0bf1566071457"
      }
     },
     "5bd0f48dd4254a18a0074e9552592da4": {
      "model_module": "@jupyter-widgets/controls",
      "model_module_version": "1.5.0",
      "model_name": "DescriptionStyleModel",
      "state": {
       "description_width": "auto"
      }
     },
     "5c7b89e0dbf140f183e55fb5f1bfa794": {
      "model_module": "@jupyter-widgets/base",
      "model_module_version": "1.2.0",
      "model_name": "LayoutModel",
      "state": {
       "overflow": "auto"
      }
     },
     "5d4dd992acba4283b7910cc8a820e5ae": {
      "model_module": "@jupyter-widgets/controls",
      "model_module_version": "1.5.0",
      "model_name": "DescriptionStyleModel",
      "state": {
       "description_width": "auto"
      }
     },
     "5eb859db0ce247bdb78ff9ff86a5a080": {
      "model_module": "@jupyter-widgets/controls",
      "model_module_version": "1.5.0",
      "model_name": "SliderStyleModel",
      "state": {
       "description_width": "auto"
      }
     },
     "5f85a96eab974b679e9d661dadf57a13": {
      "model_module": "@jupyter-widgets/base",
      "model_module_version": "1.2.0",
      "model_name": "LayoutModel",
      "state": {}
     },
     "62fb10beb51d43ebb3ea78bf737ca310": {
      "model_module": "@jupyter-widgets/base",
      "model_module_version": "1.2.0",
      "model_name": "LayoutModel",
      "state": {}
     },
     "65bd2682f76c44998aa35a3b35be921a": {
      "model_module": "@jupyter-widgets/controls",
      "model_module_version": "1.5.0",
      "model_name": "ButtonStyleModel",
      "state": {}
     },
     "66cb690142e64fe3b0e9979d8464e9f6": {
      "model_module": "@jupyter-widgets/output",
      "model_module_version": "1.0.0",
      "model_name": "OutputModel",
      "state": {
       "layout": "IPY_MODEL_53a81819aa6c4fa3bf5d4b24d2388854",
       "outputs": [
        {
         "data": {
          "application/vnd.jupyter.widget-view+json": {
           "model_id": "2299e0a359d64ca489c58059d4513968",
           "version_major": 2,
           "version_minor": 0
          },
          "text/plain": "Accordion(children=(VBox(children=(IntSlider(value=50, continuous_update=False, description='input_a', layout=…"
         },
         "metadata": {},
         "output_type": "display_data"
        }
       ]
      }
     },
     "6b0a749e718c4744b699f35abaa47dbf": {
      "model_module": "@jupyter-widgets/base",
      "model_module_version": "1.2.0",
      "model_name": "LayoutModel",
      "state": {}
     },
     "6c45a2ae22ef499a8c39c6ade3d4debb": {
      "model_module": "@jupyter-widgets/controls",
      "model_module_version": "1.5.0",
      "model_name": "DescriptionStyleModel",
      "state": {
       "description_width": ""
      }
     },
     "71fdd9a9b48e4b769ccbddba36db751b": {
      "model_module": "@jupyter-widgets/output",
      "model_module_version": "1.0.0",
      "model_name": "OutputModel",
      "state": {
       "layout": "IPY_MODEL_e643aa55225045b4834480cec06213e7"
      }
     },
     "786235d7341d4091b862b57ad5cf964d": {
      "model_module": "@jupyter-widgets/output",
      "model_module_version": "1.0.0",
      "model_name": "OutputModel",
      "state": {
       "layout": "IPY_MODEL_fd04d04c06ec4078b1f2ef61abf666a3",
       "outputs": [
        {
         "data": {
          "application/vnd.jupyter.widget-view+json": {
           "model_id": "71fdd9a9b48e4b769ccbddba36db751b",
           "version_major": 2,
           "version_minor": 0
          },
          "text/plain": "Output()"
         },
         "metadata": {},
         "output_type": "display_data"
        },
        {
         "data": {
          "application/vnd.jupyter.widget-view+json": {
           "model_id": "89b3573f01a24692a5a69a15c356b2c8",
           "version_major": 2,
           "version_minor": 0
          },
          "text/plain": "Button(description='Job Submitted ✅', disabled=True, style=ButtonStyle())"
         },
         "metadata": {},
         "output_type": "display_data"
        }
       ]
      }
     },
     "79eb25ed91b7486e8596c4f49cb655a0": {
      "model_module": "@jupyter-widgets/output",
      "model_module_version": "1.0.0",
      "model_name": "OutputModel",
      "state": {
       "layout": "IPY_MODEL_c94437471fa44b438eb9da130d7baeec",
       "outputs": [
        {
         "data": {
          "application/vnd.jupyter.widget-view+json": {
           "model_id": "9c1d78c3a77042e5abf75757572baec4",
           "version_major": 2,
           "version_minor": 0
          },
          "text/plain": "Dropdown(description='📦 Job Templates:', index=2, layout=Layout(width='60%'), options=('wrfhydro-5.x', 'summa3…"
         },
         "metadata": {},
         "output_type": "display_data"
        }
       ]
      }
     },
     "7a5a49a03c314eb6a4fe5debd480103f": {
      "model_module": "@jupyter-widgets/output",
      "model_module_version": "1.0.0",
      "model_name": "OutputModel",
      "state": {
       "layout": "IPY_MODEL_f6b32bd05b5e47f9be4804ae5606676c",
       "outputs": [
        {
         "data": {
          "application/vnd.jupyter.widget-view+json": {
           "model_id": "ea8c90bf3da140cebbf8900246591bb2",
           "version_major": 2,
           "version_minor": 0
          },
          "text/plain": "Accordion(children=(Dropdown(description='🖥 Computing Recourse:', layout=Layout(width='60%'), options=('keelin…"
         },
         "metadata": {},
         "output_type": "display_data"
        }
       ]
      }
     },
     "7a89ee935717484ebe484d4672be0ef4": {
      "model_module": "@jupyter-widgets/controls",
      "model_module_version": "1.5.0",
      "model_name": "ButtonStyleModel",
      "state": {}
     },
     "7be92ffe52524ae6a4d3dea587e52a7e": {
      "model_module": "@jupyter-widgets/controls",
      "model_module_version": "1.5.0",
      "model_name": "DescriptionStyleModel",
      "state": {
       "description_width": ""
      }
     },
     "7d83bed854fd46c4a75a04afd3f1a198": {
      "model_module": "@jupyter-widgets/controls",
      "model_module_version": "1.5.0",
      "model_name": "LabelModel",
      "state": {
       "layout": "IPY_MODEL_12830cd9160f4967a3a9df6bd987ff14",
       "style": "IPY_MODEL_3694a7d12fa846f498208c1669e59169",
       "value": "All configs are optional. Please refer to Slurm official documentation at 🔗 https://slurm.schedmd.com/sbatch.html"
      }
     },
     "7e72a689d42c44d4bf4e7525d49bdc3a": {
      "model_module": "@jupyter-widgets/base",
      "model_module_version": "1.2.0",
      "model_name": "LayoutModel",
      "state": {}
     },
     "8142643b06294ec991d94d2cd77ce45b": {
      "model_module": "@jupyter-widgets/base",
      "model_module_version": "1.2.0",
      "model_name": "LayoutModel",
      "state": {
       "margin": "0 0 0 1em"
      }
     },
     "83f8bc9641cf4f9ea62e95af8d094d4b": {
      "model_module": "@jupyter-widgets/output",
      "model_module_version": "1.0.0",
      "model_name": "OutputModel",
      "state": {
       "layout": "IPY_MODEL_898a3e0fae034cd2adb157a1681e9303",
       "outputs": [
        {
         "data": {
          "text/markdown": "# ✌️ Your Job is Here!",
          "text/plain": "<IPython.core.display.Markdown object>"
         },
         "metadata": {},
         "output_type": "display_data"
        },
        {
         "data": {
          "text/html": "<table>\n<thead>\n<tr><th style=\"text-align:left\">id             </th><th style=\"text-align:left\">slurmId  </th><th style=\"text-align:left\">hpc              </th><th style=\"text-align:left\">executableFolder  </th><th style=\"text-align:left\">dataFolder                                                                                                                                                                                </th><th style=\"text-align:left\">resultFolder                                                                                                                                                   </th><th style=\"text-align:left\">param                            </th><th style=\"text-align:left\">slurm                                                 </th><th style=\"text-align:left\">userId                                      </th><th style=\"text-align:left\">maintainer            </th><th style=\"text-align:left\">createdAt               </th></tr>\n</thead>\n<tbody>\n<tr><td style=\"text-align:left\">1654019912oVAAB</td><td style=\"text-align:left\">         </td><td style=\"text-align:left\">keeling_community</td><td style=\"text-align:left\">git://hello_world </td><td style=\"text-align:left\">globus://418e684e-1260-11ec-ba7d-138ac5bdb19f:/~/data/cigi/cybergis-jupyter/production_data/notebook_home_data/alexandermichels/osmnx-examples/notebooks/input_data/ZillowNeighborhoods-CA</td><td style=\"text-align:left\">globus://418e684e-1260-11ec-ba7d-138ac5bdb19f:/~/data/cigi/cybergis-jupyter/production_data/notebook_home_data/alexandermichels/globus_download_1654019912oVAAB</td><td style=\"text-align:left\">{&quot;input_a&quot;: 50, &quot;input_b&quot;: &quot;foo&quot;}</td><td style=\"text-align:left\">{&quot;time&quot;: &quot;20:00&quot;, &quot;num_of_task&quot;: 4, &quot;cpu_per_task&quot;: 1}</td><td style=\"text-align:left\">alexandermichels@cybergisx.cigi.illinois.edu</td><td style=\"text-align:left\">community_contribution</td><td style=\"text-align:left\">2022-05-31T17:58:32.000Z</td></tr>\n</tbody>\n</table>",
          "text/plain": "<IPython.core.display.HTML object>"
         },
         "metadata": {},
         "output_type": "display_data"
        }
       ]
      }
     },
     "847ea910da7c4d848930a365443ac269": {
      "model_module": "@jupyter-widgets/controls",
      "model_module_version": "1.5.0",
      "model_name": "DescriptionStyleModel",
      "state": {
       "description_width": ""
      }
     },
     "884c70e8c0654fb59aef69314dd19961": {
      "model_module": "@jupyter-widgets/controls",
      "model_module_version": "1.5.0",
      "model_name": "ButtonModel",
      "state": {
       "description": "Download",
       "disabled": true,
       "layout": "IPY_MODEL_aaa1c70f47694098b06c9bf0cb03708d",
       "style": "IPY_MODEL_7a89ee935717484ebe484d4672be0ef4"
      }
     },
     "898a3e0fae034cd2adb157a1681e9303": {
      "model_module": "@jupyter-widgets/base",
      "model_module_version": "1.2.0",
      "model_name": "LayoutModel",
      "state": {}
     },
     "89b3573f01a24692a5a69a15c356b2c8": {
      "model_module": "@jupyter-widgets/controls",
      "model_module_version": "1.5.0",
      "model_name": "ButtonModel",
      "state": {
       "description": "Job Submitted ✅",
       "disabled": true,
       "layout": "IPY_MODEL_b98c64609ee24ac1876478e842698e1d",
       "style": "IPY_MODEL_35e5a7c7b61a4d0bbc78d6282148b255"
      }
     },
     "89ecc7b1457047c7a40b3c36291a9073": {
      "model_module": "@jupyter-widgets/base",
      "model_module_version": "1.2.0",
      "model_name": "LayoutModel",
      "state": {}
     },
     "8ae444843e13478c934966dc8d212a8e": {
      "model_module": "@jupyter-widgets/output",
      "model_module_version": "1.0.0",
      "model_name": "OutputModel",
      "state": {
       "layout": "IPY_MODEL_433ff9468f934650abce7ae1de4afb5c",
       "outputs": [
        {
         "data": {
          "application/vnd.jupyter.widget-view+json": {
           "model_id": "83f8bc9641cf4f9ea62e95af8d094d4b",
           "version_major": 2,
           "version_minor": 0
          },
          "text/plain": "Output()"
         },
         "metadata": {},
         "output_type": "display_data"
        },
        {
         "data": {
          "text/markdown": "***",
          "text/plain": "<IPython.core.display.Markdown object>"
         },
         "metadata": {},
         "output_type": "display_data"
        },
        {
         "data": {
          "text/markdown": "## 📋 job events (live refresh)",
          "text/plain": "<IPython.core.display.Markdown object>"
         },
         "metadata": {},
         "output_type": "display_data"
        },
        {
         "data": {
          "application/vnd.jupyter.widget-view+json": {
           "model_id": "a0b47a15c72d448fa0f2e839124e701f",
           "version_major": 2,
           "version_minor": 0
          },
          "text/plain": "Output()"
         },
         "metadata": {},
         "output_type": "display_data"
        },
        {
         "data": {
          "text/markdown": "***",
          "text/plain": "<IPython.core.display.Markdown object>"
         },
         "metadata": {},
         "output_type": "display_data"
        },
        {
         "data": {
          "text/markdown": "## 📋 job logs",
          "text/plain": "<IPython.core.display.Markdown object>"
         },
         "metadata": {},
         "output_type": "display_data"
        },
        {
         "data": {
          "application/vnd.jupyter.widget-view+json": {
           "model_id": "46b663199aed47b682dc80b3c68156f9",
           "version_major": 2,
           "version_minor": 0
          },
          "text/plain": "Output()"
         },
         "metadata": {},
         "output_type": "display_data"
        }
       ]
      }
     },
     "9053a0fb85964400a501ca605a103992": {
      "model_module": "@jupyter-widgets/base",
      "model_module_version": "1.2.0",
      "model_name": "LayoutModel",
      "state": {
       "display": "none",
       "min_width": "6em",
       "width": "6em"
      }
     },
     "90f892e8d5d744dab3af81198d277e18": {
      "model_module": "@jupyter-widgets/base",
      "model_module_version": "1.2.0",
      "model_name": "LayoutModel",
      "state": {
       "grid_area": "dircontent",
       "width": "auto"
      }
     },
     "94baed452d3d4a9d9358d2257efa47f1": {
      "model_module": "@jupyter-widgets/output",
      "model_module_version": "1.0.0",
      "model_name": "OutputModel",
      "state": {
       "layout": "IPY_MODEL_89ecc7b1457047c7a40b3c36291a9073"
      }
     },
     "95c9b1ce342c49aa99d0d4c8f05c678e": {
      "model_module": "@jupyter-widgets/controls",
      "model_module_version": "1.5.0",
      "model_name": "ButtonStyleModel",
      "state": {}
     },
     "9998d0a8909c43e9936286ea87a5e279": {
      "model_module": "@jupyter-widgets/base",
      "model_module_version": "1.2.0",
      "model_name": "LayoutModel",
      "state": {}
     },
     "9c1d78c3a77042e5abf75757572baec4": {
      "model_module": "@jupyter-widgets/controls",
      "model_module_version": "1.5.0",
      "model_name": "DropdownModel",
      "state": {
       "_options_labels": [
        "wrfhydro-5.x",
        "summa3",
        "hello_world",
        "data_fusion"
       ],
       "description": "📦 Job Templates:",
       "index": 2,
       "layout": "IPY_MODEL_ce0425f11edb4b70a2efbb8d6490dfca",
       "style": "IPY_MODEL_5d4dd992acba4283b7910cc8a820e5ae"
      }
     },
     "9eedb74f281b48378e3691679b0914bd": {
      "model_module": "@jupyter-widgets/output",
      "model_module_version": "1.0.0",
      "model_name": "OutputModel",
      "state": {
       "layout": "IPY_MODEL_38eee2aadeae490a95c40ff54597d268",
       "outputs": [
        {
         "data": {
          "application/vnd.jupyter.widget-view+json": {
           "model_id": "3323ecefb1dd48fbacff630e09dc2663",
           "version_major": 2,
           "version_minor": 0
          },
          "text/plain": "Accordion(children=(VBox(children=(Label(value='All configs are optional. Please refer to Slurm official docum…"
         },
         "metadata": {},
         "output_type": "display_data"
        }
       ]
      }
     },
     "a0b47a15c72d448fa0f2e839124e701f": {
      "model_module": "@jupyter-widgets/output",
      "model_module_version": "1.0.0",
      "model_name": "OutputModel",
      "state": {
       "layout": "IPY_MODEL_5024100bef3e42dca951da2dc9ca965c",
       "outputs": [
        {
         "name": "stdout",
         "output_type": "stream",
         "text": "\u001b[H\u001b[2J📮 Job ID: 1654019912oVAAB\n🤖 Slurm ID: 808561\n"
        },
        {
         "data": {
          "text/html": "<table>\n<thead>\n<tr><th>types                       </th><th>message                                                                            </th><th>time                    </th></tr>\n</thead>\n<tbody>\n<tr><td>JOB_QUEUED                  </td><td>job [1654019912oVAAB] is queued, waiting for registration                          </td><td>2022-05-31T17:58:32.000Z</td></tr>\n<tr><td>JOB_REGISTERED              </td><td>job [1654019912oVAAB] is registered with the supervisor, waiting for initialization</td><td>2022-05-31T17:58:34.000Z</td></tr>\n<tr><td>GLOBUS_TRANSFER_INIT_SUCCESS</td><td>initialized Globus job with task ID 4ca16162-e10b-11ec-b5c6-79437d2253ac           </td><td>2022-05-31T17:59:14.000Z</td></tr>\n<tr><td>JOB_INIT                    </td><td>job [1654019912oVAAB] is initialized, waiting for job completion                   </td><td>2022-05-31T17:59:14.000Z</td></tr>\n<tr><td>JOB_ENDED                   </td><td>job [1654019912oVAAB] finished                                                     </td><td>2022-05-31T17:59:21.000Z</td></tr>\n</tbody>\n</table>",
          "text/plain": "<IPython.core.display.HTML object>"
         },
         "metadata": {},
         "output_type": "display_data"
        }
       ]
      }
     },
     "a1c62428f1bd45f5802a398c82d14f38": {
      "model_module": "@jupyter-widgets/controls",
      "model_module_version": "1.5.0",
      "model_name": "DropdownModel",
      "state": {
       "_options_labels": [
        "/home/jovyan/work/osmnx-examples/notebooks/input_data/ZillowNeighborhoods-CA",
        "/home/jovyan/work/osmnx-examples/notebooks/input_data",
        "/home/jovyan/work/osmnx-examples/notebooks",
        "/home/jovyan/work/osmnx-examples",
        "/home/jovyan/work",
        "/home/jovyan",
        "/home",
        "/"
       ],
       "index": 0,
       "layout": "IPY_MODEL_bfa76d7da0b743e4ab7ea757ce3c36dd",
       "style": "IPY_MODEL_0bfced3226c541faa397d8ef0eb49269"
      }
     },
     "a55ef864669c4a9b8eb5a3c0a2734774": {
      "model_module": "@jupyter-widgets/base",
      "model_module_version": "1.2.0",
      "model_name": "LayoutModel",
      "state": {}
     },
     "a63f363e7fe44ef6a89839801ff9e1fd": {
      "model_module": "@jupyter-widgets/controls",
      "model_module_version": "1.5.0",
      "model_name": "BoxModel",
      "state": {
       "children": [
        "IPY_MODEL_0426e09ecaa54dde9d30c607d404540d"
       ],
       "layout": "IPY_MODEL_5c7b89e0dbf140f183e55fb5f1bfa794"
      }
     },
     "a78e1884305947adbc13262df3c7ae52": {
      "model_module": "@jupyter-widgets/base",
      "model_module_version": "1.2.0",
      "model_name": "LayoutModel",
      "state": {}
     },
     "aaa1c70f47694098b06c9bf0cb03708d": {
      "model_module": "@jupyter-widgets/base",
      "model_module_version": "1.2.0",
      "model_name": "LayoutModel",
      "state": {}
     },
     "aafe0dfd87994407aad9fab278d85142": {
      "model_module": "@jupyter-widgets/base",
      "model_module_version": "1.2.0",
      "model_name": "LayoutModel",
      "state": {
       "width": "auto"
      }
     },
     "ac518dd032db432c8972c2c071fe96ec": {
      "model_module": "@jupyter-widgets/output",
      "model_module_version": "1.0.0",
      "model_name": "OutputModel",
      "state": {
       "layout": "IPY_MODEL_d1f6649cf3de448a9f4e93233bdf1053",
       "outputs": [
        {
         "data": {
          "application/vnd.jupyter.widget-view+json": {
           "model_id": "fa69b64a6c7c492db430d78d85a48ddb",
           "version_major": 2,
           "version_minor": 0
          },
          "text/plain": "Output()"
         },
         "metadata": {},
         "output_type": "display_data"
        }
       ]
      }
     },
     "ad1351809b184c2c8c745a2b1ff04aa3": {
      "model_module": "@jupyter-widgets/controls",
      "model_module_version": "1.5.0",
      "model_name": "ButtonModel",
      "state": {
       "description": "Download",
       "layout": "IPY_MODEL_02ac7ac1f3b14444ba27d57db5d4116f",
       "style": "IPY_MODEL_11d2f701aaad4e338b836da85a290628"
      }
     },
     "b0a6f8d2351f47d89c3f12ac332139b4": {
      "model_module": "@jupyter-widgets/controls",
      "model_module_version": "1.5.0",
      "model_name": "HTMLModel",
      "state": {
       "layout": "IPY_MODEL_d7f3f36e4e534984996896f7897762f9",
       "style": "IPY_MODEL_2745983e4c1c4a4784168b96759a2584",
       "value": "Job requires upload data. Please select a folder to upload"
      }
     },
     "b33067cfa99f4943bdd222aaff725c68": {
      "model_module": "@jupyter-widgets/controls",
      "model_module_version": "1.5.0",
      "model_name": "VBoxModel",
      "state": {
       "children": [
        "IPY_MODEL_41749e8c29cc4eb5a86072abc90a686e",
        "IPY_MODEL_02c243b823d841238718e997267f015e"
       ],
       "layout": "IPY_MODEL_160cf3a616374c55a7f3f6c97196862b"
      }
     },
     "b8f758af96b74b29bca2cbdd3a17dda6": {
      "model_module": "@jupyter-widgets/controls",
      "model_module_version": "1.5.0",
      "model_name": "SliderStyleModel",
      "state": {
       "description_width": "auto"
      }
     },
     "b98c64609ee24ac1876478e842698e1d": {
      "model_module": "@jupyter-widgets/base",
      "model_module_version": "1.2.0",
      "model_name": "LayoutModel",
      "state": {}
     },
     "bb1c5b1114c041d6bc64b803074c90f7": {
      "model_module": "@jupyter-widgets/base",
      "model_module_version": "1.2.0",
      "model_name": "LayoutModel",
      "state": {}
     },
     "bfa76d7da0b743e4ab7ea757ce3c36dd": {
      "model_module": "@jupyter-widgets/base",
      "model_module_version": "1.2.0",
      "model_name": "LayoutModel",
      "state": {
       "grid_area": "pathlist",
       "width": "auto"
      }
     },
     "c10da3bec9ed4e3cba3438435d6c6013": {
      "model_module": "@jupyter-widgets/base",
      "model_module_version": "1.2.0",
      "model_name": "LayoutModel",
      "state": {}
     },
     "c2a753bb92bd4701951ce03460ee153e": {
      "model_module": "@jupyter-widgets/controls",
      "model_module_version": "1.5.0",
      "model_name": "TextModel",
      "state": {
       "disabled": true,
       "layout": "IPY_MODEL_083d1e35b14347dda2b4b1e3faaba3b6",
       "placeholder": "output filename",
       "style": "IPY_MODEL_847ea910da7c4d848930a365443ac269"
      }
     },
     "c2fced89b31f464092d51229d96a240b": {
      "model_module": "@jupyter-widgets/base",
      "model_module_version": "1.2.0",
      "model_name": "LayoutModel",
      "state": {
       "display": "none",
       "grid_gap": "0px 0px",
       "grid_template_areas": "\n            'pathlist pathlist'\n            'dircontent dircontent'\n            ",
       "grid_template_columns": "60% 40%",
       "grid_template_rows": "auto auto",
       "width": "auto"
      }
     },
     "c88a9ad7efff492bafc1f938d340c65e": {
      "model_module": "@jupyter-widgets/controls",
      "model_module_version": "1.5.0",
      "model_name": "ButtonModel",
      "state": {
       "description": "Submit Job",
       "layout": "IPY_MODEL_5f85a96eab974b679e9d661dadf57a13",
       "style": "IPY_MODEL_65bd2682f76c44998aa35a3b35be921a"
      }
     },
     "c94437471fa44b438eb9da130d7baeec": {
      "model_module": "@jupyter-widgets/base",
      "model_module_version": "1.2.0",
      "model_name": "LayoutModel",
      "state": {}
     },
     "cb156bbe40134979b12330b2e07d7a44": {
      "model_module": "@jupyter-widgets/output",
      "model_module_version": "1.0.0",
      "model_name": "OutputModel",
      "state": {
       "layout": "IPY_MODEL_6b0a749e718c4744b699f35abaa47dbf",
       "outputs": [
        {
         "data": {
          "application/vnd.jupyter.widget-view+json": {
           "model_id": "0f77c7b46a064b2fbbad768be114656d",
           "version_major": 2,
           "version_minor": 0
          },
          "text/plain": "Accordion(children=(FileChooser(path='/home/jovyan/work', filename='', title='Job requires upload data. Please…"
         },
         "metadata": {},
         "output_type": "display_data"
        }
       ]
      }
     },
     "cb4537cfec2c4770adcffa26b4f5a6ac": {
      "model_module": "@jupyter-widgets/controls",
      "model_module_version": "1.5.0",
      "model_name": "ButtonModel",
      "state": {
       "description": "Change",
       "layout": "IPY_MODEL_f711162c9e3442a4a13fc9dedc381b90",
       "style": "IPY_MODEL_d6ec1fecfec44468a1f06ee12a82f307"
      }
     },
     "ce0425f11edb4b70a2efbb8d6490dfca": {
      "model_module": "@jupyter-widgets/base",
      "model_module_version": "1.2.0",
      "model_name": "LayoutModel",
      "state": {
       "width": "60%"
      }
     },
     "d1f6649cf3de448a9f4e93233bdf1053": {
      "model_module": "@jupyter-widgets/base",
      "model_module_version": "1.2.0",
      "model_name": "LayoutModel",
      "state": {}
     },
     "d2e13fee7ee44b4c8f37b6e74f2e0d86": {
      "model_module": "@jupyter-widgets/controls",
      "model_module_version": "1.5.0",
      "model_name": "HBoxModel",
      "state": {
       "children": [
        "IPY_MODEL_cb4537cfec2c4770adcffa26b4f5a6ac",
        "IPY_MODEL_f691f090a6ce46bc83b6b602ed36ed04",
        "IPY_MODEL_a63f363e7fe44ef6a89839801ff9e1fd"
       ],
       "layout": "IPY_MODEL_aafe0dfd87994407aad9fab278d85142"
      }
     },
     "d50c5f6c94df4f00ab1b2897fe115292": {
      "model_module": "@jupyter-widgets/controls",
      "model_module_version": "1.5.0",
      "model_name": "SliderStyleModel",
      "state": {
       "description_width": "auto"
      }
     },
     "d5ba1a148bfb4a1f800199311e50c74c": {
      "model_module": "@jupyter-widgets/controls",
      "model_module_version": "1.5.0",
      "model_name": "DescriptionStyleModel",
      "state": {
       "description_width": "auto"
      }
     },
     "d6ec1fecfec44468a1f06ee12a82f307": {
      "model_module": "@jupyter-widgets/controls",
      "model_module_version": "1.5.0",
      "model_name": "ButtonStyleModel",
      "state": {}
     },
     "d7f3f36e4e534984996896f7897762f9": {
      "model_module": "@jupyter-widgets/base",
      "model_module_version": "1.2.0",
      "model_name": "LayoutModel",
      "state": {}
     },
     "e42d49d76ee047b9b5387b466f97c3f9": {
      "model_module": "@jupyter-widgets/base",
      "model_module_version": "1.2.0",
      "model_name": "LayoutModel",
      "state": {}
     },
     "e46403b87de54897b9be327ea6fba4b2": {
      "model_module": "@jupyter-widgets/controls",
      "model_module_version": "1.5.0",
      "model_name": "VBoxModel",
      "state": {
       "children": [
        "IPY_MODEL_1d4ee4e525214a9f9d4b5d81e1bdf320",
        "IPY_MODEL_3ec9fecdd5104fe299fd181e57107b07"
       ],
       "layout": "IPY_MODEL_429e02f1689946f080b7bceccbc137d1"
      }
     },
     "e562d60c905541688aa193a5f1c4c016": {
      "model_module": "@jupyter-widgets/controls",
      "model_module_version": "1.5.0",
      "model_name": "DropdownModel",
      "state": {
       "_options_labels": [
        "/demo_quick_start_0",
        "/",
        "/slurm_log",
        "/demo_quick_start_3",
        "/demo_quick_start_2",
        "/demo_quick_start_1"
       ],
       "description": "select file/folder",
       "index": 0,
       "layout": "IPY_MODEL_ec3a7fa2ca824d89aca6e52b7366cd65",
       "style": "IPY_MODEL_ff5f87185cc940babadcc857630fee27"
      }
     },
     "e643aa55225045b4834480cec06213e7": {
      "model_module": "@jupyter-widgets/base",
      "model_module_version": "1.2.0",
      "model_name": "LayoutModel",
      "state": {}
     },
     "ea8c90bf3da140cebbf8900246591bb2": {
      "model_module": "@jupyter-widgets/controls",
      "model_module_version": "1.5.0",
      "model_name": "AccordionModel",
      "state": {
       "_titles": {
        "0": "Computing Resource"
       },
       "children": [
        "IPY_MODEL_1138054d28ac4049b511c4a55c4c244e"
       ],
       "layout": "IPY_MODEL_4842025daf894f07899bcec525c1b085",
       "selected_index": null
      }
     },
     "ec3a7fa2ca824d89aca6e52b7366cd65": {
      "model_module": "@jupyter-widgets/base",
      "model_module_version": "1.2.0",
      "model_name": "LayoutModel",
      "state": {}
     },
     "ec615cb7534843888174814898f56895": {
      "model_module": "@jupyter-widgets/base",
      "model_module_version": "1.2.0",
      "model_name": "LayoutModel",
      "state": {}
     },
     "f691f090a6ce46bc83b6b602ed36ed04": {
      "model_module": "@jupyter-widgets/controls",
      "model_module_version": "1.5.0",
      "model_name": "ButtonModel",
      "state": {
       "description": "Cancel",
       "layout": "IPY_MODEL_9053a0fb85964400a501ca605a103992",
       "style": "IPY_MODEL_95c9b1ce342c49aa99d0d4c8f05c678e"
      }
     },
     "f6b32bd05b5e47f9be4804ae5606676c": {
      "model_module": "@jupyter-widgets/base",
      "model_module_version": "1.2.0",
      "model_name": "LayoutModel",
      "state": {}
     },
     "f711162c9e3442a4a13fc9dedc381b90": {
      "model_module": "@jupyter-widgets/base",
      "model_module_version": "1.2.0",
      "model_name": "LayoutModel",
      "state": {
       "min_width": "6em",
       "width": "6em"
      }
     },
     "f95199428c8444e0a32a4ef0e5a25e6d": {
      "model_module": "@jupyter-widgets/controls",
      "model_module_version": "1.5.0",
      "model_name": "CheckboxModel",
      "state": {
       "description": "receive email on job status? ",
       "disabled": false,
       "layout": "IPY_MODEL_09e67c9035ef4c0791d9f4a7ea4fc7dc",
       "style": "IPY_MODEL_1dc3b9479a8e40388732c3a5f4512329",
       "value": false
      }
     },
     "fa69b64a6c7c492db430d78d85a48ddb": {
      "model_module": "@jupyter-widgets/output",
      "model_module_version": "1.0.0",
      "model_name": "OutputModel",
      "state": {
       "layout": "IPY_MODEL_e42d49d76ee047b9b5387b466f97c3f9",
       "outputs": [
        {
         "data": {
          "text/markdown": "# ☁️ Download Job Output Files",
          "text/plain": "<IPython.core.display.Markdown object>"
         },
         "metadata": {},
         "output_type": "display_data"
        },
        {
         "data": {
          "application/vnd.jupyter.widget-view+json": {
           "model_id": "94baed452d3d4a9d9358d2257efa47f1",
           "version_major": 2,
           "version_minor": 0
          },
          "text/plain": "Output()"
         },
         "metadata": {},
         "output_type": "display_data"
        },
        {
         "data": {
          "application/vnd.jupyter.widget-view+json": {
           "model_id": "0b1b4a80c68b4b179c5250c5f7ddfacd",
           "version_major": 2,
           "version_minor": 0
          },
          "text/plain": "Output()"
         },
         "metadata": {},
         "output_type": "display_data"
        },
        {
         "data": {
          "application/vnd.jupyter.widget-view+json": {
           "model_id": "e562d60c905541688aa193a5f1c4c016",
           "version_major": 2,
           "version_minor": 0
          },
          "text/plain": "Dropdown(description='select file/folder', options=('/demo_quick_start_0', '/', '/slurm_log', '/demo_quick_sta…"
         },
         "metadata": {},
         "output_type": "display_data"
        },
        {
         "data": {
          "application/vnd.jupyter.widget-view+json": {
           "model_id": "ad1351809b184c2c8c745a2b1ff04aa3",
           "version_major": 2,
           "version_minor": 0
          },
          "text/plain": "Button(description='Download', style=ButtonStyle())"
         },
         "metadata": {},
         "output_type": "display_data"
        }
       ]
      }
     },
     "fd04d04c06ec4078b1f2ef61abf666a3": {
      "model_module": "@jupyter-widgets/base",
      "model_module_version": "1.2.0",
      "model_name": "LayoutModel",
      "state": {}
     },
     "ff5f87185cc940babadcc857630fee27": {
      "model_module": "@jupyter-widgets/controls",
      "model_module_version": "1.5.0",
      "model_name": "DescriptionStyleModel",
      "state": {
       "description_width": ""
      }
     },
     "ffd012aad6b04d4b820e45de0b09d5e9": {
      "model_module": "@jupyter-widgets/base",
      "model_module_version": "1.2.0",
      "model_name": "LayoutModel",
      "state": {}
     }
    },
    "version_major": 2,
    "version_minor": 0
   }
  }
 },
 "nbformat": 4,
 "nbformat_minor": 4
}
